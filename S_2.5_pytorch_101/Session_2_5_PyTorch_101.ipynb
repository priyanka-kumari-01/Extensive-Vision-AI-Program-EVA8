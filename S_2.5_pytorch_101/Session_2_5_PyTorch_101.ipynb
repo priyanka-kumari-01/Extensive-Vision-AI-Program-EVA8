{
  "nbformat": 4,
  "nbformat_minor": 0,
  "metadata": {
    "colab": {
      "provenance": [],
      "authorship_tag": "ABX9TyOps17UsDSraGNUg22d4S7O",
      "include_colab_link": true
    },
    "kernelspec": {
      "name": "python3",
      "display_name": "Python 3"
    },
    "language_info": {
      "name": "python"
    },
    "gpuClass": "standard",
    "accelerator": "GPU",
    "widgets": {
      "application/vnd.jupyter.widget-state+json": {
        "309b736f9c36411e8a48233a61bd29a5": {
          "model_module": "@jupyter-widgets/controls",
          "model_name": "HBoxModel",
          "model_module_version": "1.5.0",
          "state": {
            "_dom_classes": [],
            "_model_module": "@jupyter-widgets/controls",
            "_model_module_version": "1.5.0",
            "_model_name": "HBoxModel",
            "_view_count": null,
            "_view_module": "@jupyter-widgets/controls",
            "_view_module_version": "1.5.0",
            "_view_name": "HBoxView",
            "box_style": "",
            "children": [
              "IPY_MODEL_cea98ad5f1cd40e0b1cc25f15ea5edb2",
              "IPY_MODEL_b5a02229e68d4ec7b0027540e2e06aa5",
              "IPY_MODEL_eb6eb8da44e04aa597b2cdac1ba56d72"
            ],
            "layout": "IPY_MODEL_b1351b3696dd4f9e90d46061f0d3ce18"
          }
        },
        "cea98ad5f1cd40e0b1cc25f15ea5edb2": {
          "model_module": "@jupyter-widgets/controls",
          "model_name": "HTMLModel",
          "model_module_version": "1.5.0",
          "state": {
            "_dom_classes": [],
            "_model_module": "@jupyter-widgets/controls",
            "_model_module_version": "1.5.0",
            "_model_name": "HTMLModel",
            "_view_count": null,
            "_view_module": "@jupyter-widgets/controls",
            "_view_module_version": "1.5.0",
            "_view_name": "HTMLView",
            "description": "",
            "description_tooltip": null,
            "layout": "IPY_MODEL_51f289e2e1e34074af95d0c9de965feb",
            "placeholder": "​",
            "style": "IPY_MODEL_7ef065f7aefb477cb7a2fe23277c0f98",
            "value": "100%"
          }
        },
        "b5a02229e68d4ec7b0027540e2e06aa5": {
          "model_module": "@jupyter-widgets/controls",
          "model_name": "FloatProgressModel",
          "model_module_version": "1.5.0",
          "state": {
            "_dom_classes": [],
            "_model_module": "@jupyter-widgets/controls",
            "_model_module_version": "1.5.0",
            "_model_name": "FloatProgressModel",
            "_view_count": null,
            "_view_module": "@jupyter-widgets/controls",
            "_view_module_version": "1.5.0",
            "_view_name": "ProgressView",
            "bar_style": "success",
            "description": "",
            "description_tooltip": null,
            "layout": "IPY_MODEL_2e82063c2c3a47a493a37d0065c4d671",
            "max": 9912422,
            "min": 0,
            "orientation": "horizontal",
            "style": "IPY_MODEL_1968c8b95a9b4fbcabf7b66a53450c74",
            "value": 9912422
          }
        },
        "eb6eb8da44e04aa597b2cdac1ba56d72": {
          "model_module": "@jupyter-widgets/controls",
          "model_name": "HTMLModel",
          "model_module_version": "1.5.0",
          "state": {
            "_dom_classes": [],
            "_model_module": "@jupyter-widgets/controls",
            "_model_module_version": "1.5.0",
            "_model_name": "HTMLModel",
            "_view_count": null,
            "_view_module": "@jupyter-widgets/controls",
            "_view_module_version": "1.5.0",
            "_view_name": "HTMLView",
            "description": "",
            "description_tooltip": null,
            "layout": "IPY_MODEL_4eaba925a433479eb35fac0f62736132",
            "placeholder": "​",
            "style": "IPY_MODEL_be25209d28754fe8a1a7967cf2cce456",
            "value": " 9912422/9912422 [00:00&lt;00:00, 32734237.95it/s]"
          }
        },
        "b1351b3696dd4f9e90d46061f0d3ce18": {
          "model_module": "@jupyter-widgets/base",
          "model_name": "LayoutModel",
          "model_module_version": "1.2.0",
          "state": {
            "_model_module": "@jupyter-widgets/base",
            "_model_module_version": "1.2.0",
            "_model_name": "LayoutModel",
            "_view_count": null,
            "_view_module": "@jupyter-widgets/base",
            "_view_module_version": "1.2.0",
            "_view_name": "LayoutView",
            "align_content": null,
            "align_items": null,
            "align_self": null,
            "border": null,
            "bottom": null,
            "display": null,
            "flex": null,
            "flex_flow": null,
            "grid_area": null,
            "grid_auto_columns": null,
            "grid_auto_flow": null,
            "grid_auto_rows": null,
            "grid_column": null,
            "grid_gap": null,
            "grid_row": null,
            "grid_template_areas": null,
            "grid_template_columns": null,
            "grid_template_rows": null,
            "height": null,
            "justify_content": null,
            "justify_items": null,
            "left": null,
            "margin": null,
            "max_height": null,
            "max_width": null,
            "min_height": null,
            "min_width": null,
            "object_fit": null,
            "object_position": null,
            "order": null,
            "overflow": null,
            "overflow_x": null,
            "overflow_y": null,
            "padding": null,
            "right": null,
            "top": null,
            "visibility": null,
            "width": null
          }
        },
        "51f289e2e1e34074af95d0c9de965feb": {
          "model_module": "@jupyter-widgets/base",
          "model_name": "LayoutModel",
          "model_module_version": "1.2.0",
          "state": {
            "_model_module": "@jupyter-widgets/base",
            "_model_module_version": "1.2.0",
            "_model_name": "LayoutModel",
            "_view_count": null,
            "_view_module": "@jupyter-widgets/base",
            "_view_module_version": "1.2.0",
            "_view_name": "LayoutView",
            "align_content": null,
            "align_items": null,
            "align_self": null,
            "border": null,
            "bottom": null,
            "display": null,
            "flex": null,
            "flex_flow": null,
            "grid_area": null,
            "grid_auto_columns": null,
            "grid_auto_flow": null,
            "grid_auto_rows": null,
            "grid_column": null,
            "grid_gap": null,
            "grid_row": null,
            "grid_template_areas": null,
            "grid_template_columns": null,
            "grid_template_rows": null,
            "height": null,
            "justify_content": null,
            "justify_items": null,
            "left": null,
            "margin": null,
            "max_height": null,
            "max_width": null,
            "min_height": null,
            "min_width": null,
            "object_fit": null,
            "object_position": null,
            "order": null,
            "overflow": null,
            "overflow_x": null,
            "overflow_y": null,
            "padding": null,
            "right": null,
            "top": null,
            "visibility": null,
            "width": null
          }
        },
        "7ef065f7aefb477cb7a2fe23277c0f98": {
          "model_module": "@jupyter-widgets/controls",
          "model_name": "DescriptionStyleModel",
          "model_module_version": "1.5.0",
          "state": {
            "_model_module": "@jupyter-widgets/controls",
            "_model_module_version": "1.5.0",
            "_model_name": "DescriptionStyleModel",
            "_view_count": null,
            "_view_module": "@jupyter-widgets/base",
            "_view_module_version": "1.2.0",
            "_view_name": "StyleView",
            "description_width": ""
          }
        },
        "2e82063c2c3a47a493a37d0065c4d671": {
          "model_module": "@jupyter-widgets/base",
          "model_name": "LayoutModel",
          "model_module_version": "1.2.0",
          "state": {
            "_model_module": "@jupyter-widgets/base",
            "_model_module_version": "1.2.0",
            "_model_name": "LayoutModel",
            "_view_count": null,
            "_view_module": "@jupyter-widgets/base",
            "_view_module_version": "1.2.0",
            "_view_name": "LayoutView",
            "align_content": null,
            "align_items": null,
            "align_self": null,
            "border": null,
            "bottom": null,
            "display": null,
            "flex": null,
            "flex_flow": null,
            "grid_area": null,
            "grid_auto_columns": null,
            "grid_auto_flow": null,
            "grid_auto_rows": null,
            "grid_column": null,
            "grid_gap": null,
            "grid_row": null,
            "grid_template_areas": null,
            "grid_template_columns": null,
            "grid_template_rows": null,
            "height": null,
            "justify_content": null,
            "justify_items": null,
            "left": null,
            "margin": null,
            "max_height": null,
            "max_width": null,
            "min_height": null,
            "min_width": null,
            "object_fit": null,
            "object_position": null,
            "order": null,
            "overflow": null,
            "overflow_x": null,
            "overflow_y": null,
            "padding": null,
            "right": null,
            "top": null,
            "visibility": null,
            "width": null
          }
        },
        "1968c8b95a9b4fbcabf7b66a53450c74": {
          "model_module": "@jupyter-widgets/controls",
          "model_name": "ProgressStyleModel",
          "model_module_version": "1.5.0",
          "state": {
            "_model_module": "@jupyter-widgets/controls",
            "_model_module_version": "1.5.0",
            "_model_name": "ProgressStyleModel",
            "_view_count": null,
            "_view_module": "@jupyter-widgets/base",
            "_view_module_version": "1.2.0",
            "_view_name": "StyleView",
            "bar_color": null,
            "description_width": ""
          }
        },
        "4eaba925a433479eb35fac0f62736132": {
          "model_module": "@jupyter-widgets/base",
          "model_name": "LayoutModel",
          "model_module_version": "1.2.0",
          "state": {
            "_model_module": "@jupyter-widgets/base",
            "_model_module_version": "1.2.0",
            "_model_name": "LayoutModel",
            "_view_count": null,
            "_view_module": "@jupyter-widgets/base",
            "_view_module_version": "1.2.0",
            "_view_name": "LayoutView",
            "align_content": null,
            "align_items": null,
            "align_self": null,
            "border": null,
            "bottom": null,
            "display": null,
            "flex": null,
            "flex_flow": null,
            "grid_area": null,
            "grid_auto_columns": null,
            "grid_auto_flow": null,
            "grid_auto_rows": null,
            "grid_column": null,
            "grid_gap": null,
            "grid_row": null,
            "grid_template_areas": null,
            "grid_template_columns": null,
            "grid_template_rows": null,
            "height": null,
            "justify_content": null,
            "justify_items": null,
            "left": null,
            "margin": null,
            "max_height": null,
            "max_width": null,
            "min_height": null,
            "min_width": null,
            "object_fit": null,
            "object_position": null,
            "order": null,
            "overflow": null,
            "overflow_x": null,
            "overflow_y": null,
            "padding": null,
            "right": null,
            "top": null,
            "visibility": null,
            "width": null
          }
        },
        "be25209d28754fe8a1a7967cf2cce456": {
          "model_module": "@jupyter-widgets/controls",
          "model_name": "DescriptionStyleModel",
          "model_module_version": "1.5.0",
          "state": {
            "_model_module": "@jupyter-widgets/controls",
            "_model_module_version": "1.5.0",
            "_model_name": "DescriptionStyleModel",
            "_view_count": null,
            "_view_module": "@jupyter-widgets/base",
            "_view_module_version": "1.2.0",
            "_view_name": "StyleView",
            "description_width": ""
          }
        },
        "ea58b736990d4008916e59b53108fec4": {
          "model_module": "@jupyter-widgets/controls",
          "model_name": "HBoxModel",
          "model_module_version": "1.5.0",
          "state": {
            "_dom_classes": [],
            "_model_module": "@jupyter-widgets/controls",
            "_model_module_version": "1.5.0",
            "_model_name": "HBoxModel",
            "_view_count": null,
            "_view_module": "@jupyter-widgets/controls",
            "_view_module_version": "1.5.0",
            "_view_name": "HBoxView",
            "box_style": "",
            "children": [
              "IPY_MODEL_e8b49b9a2bb745b7a54de33c7094564b",
              "IPY_MODEL_2ebd8f35fe8443b283544c0f6d187fc4",
              "IPY_MODEL_3913786863f84cada5e06466a06703e7"
            ],
            "layout": "IPY_MODEL_1be806087e3a44a982765fc31e378777"
          }
        },
        "e8b49b9a2bb745b7a54de33c7094564b": {
          "model_module": "@jupyter-widgets/controls",
          "model_name": "HTMLModel",
          "model_module_version": "1.5.0",
          "state": {
            "_dom_classes": [],
            "_model_module": "@jupyter-widgets/controls",
            "_model_module_version": "1.5.0",
            "_model_name": "HTMLModel",
            "_view_count": null,
            "_view_module": "@jupyter-widgets/controls",
            "_view_module_version": "1.5.0",
            "_view_name": "HTMLView",
            "description": "",
            "description_tooltip": null,
            "layout": "IPY_MODEL_05c123cc1c9b47a3922dd83f0bdcbbb1",
            "placeholder": "​",
            "style": "IPY_MODEL_1ecbde017cef4fa8b10be36066db6240",
            "value": "100%"
          }
        },
        "2ebd8f35fe8443b283544c0f6d187fc4": {
          "model_module": "@jupyter-widgets/controls",
          "model_name": "FloatProgressModel",
          "model_module_version": "1.5.0",
          "state": {
            "_dom_classes": [],
            "_model_module": "@jupyter-widgets/controls",
            "_model_module_version": "1.5.0",
            "_model_name": "FloatProgressModel",
            "_view_count": null,
            "_view_module": "@jupyter-widgets/controls",
            "_view_module_version": "1.5.0",
            "_view_name": "ProgressView",
            "bar_style": "success",
            "description": "",
            "description_tooltip": null,
            "layout": "IPY_MODEL_1c6c769080934a3fb821cf03cb2a7b8b",
            "max": 28881,
            "min": 0,
            "orientation": "horizontal",
            "style": "IPY_MODEL_960a49eaeb19448786facf7a4c046100",
            "value": 28881
          }
        },
        "3913786863f84cada5e06466a06703e7": {
          "model_module": "@jupyter-widgets/controls",
          "model_name": "HTMLModel",
          "model_module_version": "1.5.0",
          "state": {
            "_dom_classes": [],
            "_model_module": "@jupyter-widgets/controls",
            "_model_module_version": "1.5.0",
            "_model_name": "HTMLModel",
            "_view_count": null,
            "_view_module": "@jupyter-widgets/controls",
            "_view_module_version": "1.5.0",
            "_view_name": "HTMLView",
            "description": "",
            "description_tooltip": null,
            "layout": "IPY_MODEL_d84a17558042457dbc8d8cf8c237a1bb",
            "placeholder": "​",
            "style": "IPY_MODEL_ad946b1a974242d8a13d5ea5d1edfa0c",
            "value": " 28881/28881 [00:00&lt;00:00, 1366834.34it/s]"
          }
        },
        "1be806087e3a44a982765fc31e378777": {
          "model_module": "@jupyter-widgets/base",
          "model_name": "LayoutModel",
          "model_module_version": "1.2.0",
          "state": {
            "_model_module": "@jupyter-widgets/base",
            "_model_module_version": "1.2.0",
            "_model_name": "LayoutModel",
            "_view_count": null,
            "_view_module": "@jupyter-widgets/base",
            "_view_module_version": "1.2.0",
            "_view_name": "LayoutView",
            "align_content": null,
            "align_items": null,
            "align_self": null,
            "border": null,
            "bottom": null,
            "display": null,
            "flex": null,
            "flex_flow": null,
            "grid_area": null,
            "grid_auto_columns": null,
            "grid_auto_flow": null,
            "grid_auto_rows": null,
            "grid_column": null,
            "grid_gap": null,
            "grid_row": null,
            "grid_template_areas": null,
            "grid_template_columns": null,
            "grid_template_rows": null,
            "height": null,
            "justify_content": null,
            "justify_items": null,
            "left": null,
            "margin": null,
            "max_height": null,
            "max_width": null,
            "min_height": null,
            "min_width": null,
            "object_fit": null,
            "object_position": null,
            "order": null,
            "overflow": null,
            "overflow_x": null,
            "overflow_y": null,
            "padding": null,
            "right": null,
            "top": null,
            "visibility": null,
            "width": null
          }
        },
        "05c123cc1c9b47a3922dd83f0bdcbbb1": {
          "model_module": "@jupyter-widgets/base",
          "model_name": "LayoutModel",
          "model_module_version": "1.2.0",
          "state": {
            "_model_module": "@jupyter-widgets/base",
            "_model_module_version": "1.2.0",
            "_model_name": "LayoutModel",
            "_view_count": null,
            "_view_module": "@jupyter-widgets/base",
            "_view_module_version": "1.2.0",
            "_view_name": "LayoutView",
            "align_content": null,
            "align_items": null,
            "align_self": null,
            "border": null,
            "bottom": null,
            "display": null,
            "flex": null,
            "flex_flow": null,
            "grid_area": null,
            "grid_auto_columns": null,
            "grid_auto_flow": null,
            "grid_auto_rows": null,
            "grid_column": null,
            "grid_gap": null,
            "grid_row": null,
            "grid_template_areas": null,
            "grid_template_columns": null,
            "grid_template_rows": null,
            "height": null,
            "justify_content": null,
            "justify_items": null,
            "left": null,
            "margin": null,
            "max_height": null,
            "max_width": null,
            "min_height": null,
            "min_width": null,
            "object_fit": null,
            "object_position": null,
            "order": null,
            "overflow": null,
            "overflow_x": null,
            "overflow_y": null,
            "padding": null,
            "right": null,
            "top": null,
            "visibility": null,
            "width": null
          }
        },
        "1ecbde017cef4fa8b10be36066db6240": {
          "model_module": "@jupyter-widgets/controls",
          "model_name": "DescriptionStyleModel",
          "model_module_version": "1.5.0",
          "state": {
            "_model_module": "@jupyter-widgets/controls",
            "_model_module_version": "1.5.0",
            "_model_name": "DescriptionStyleModel",
            "_view_count": null,
            "_view_module": "@jupyter-widgets/base",
            "_view_module_version": "1.2.0",
            "_view_name": "StyleView",
            "description_width": ""
          }
        },
        "1c6c769080934a3fb821cf03cb2a7b8b": {
          "model_module": "@jupyter-widgets/base",
          "model_name": "LayoutModel",
          "model_module_version": "1.2.0",
          "state": {
            "_model_module": "@jupyter-widgets/base",
            "_model_module_version": "1.2.0",
            "_model_name": "LayoutModel",
            "_view_count": null,
            "_view_module": "@jupyter-widgets/base",
            "_view_module_version": "1.2.0",
            "_view_name": "LayoutView",
            "align_content": null,
            "align_items": null,
            "align_self": null,
            "border": null,
            "bottom": null,
            "display": null,
            "flex": null,
            "flex_flow": null,
            "grid_area": null,
            "grid_auto_columns": null,
            "grid_auto_flow": null,
            "grid_auto_rows": null,
            "grid_column": null,
            "grid_gap": null,
            "grid_row": null,
            "grid_template_areas": null,
            "grid_template_columns": null,
            "grid_template_rows": null,
            "height": null,
            "justify_content": null,
            "justify_items": null,
            "left": null,
            "margin": null,
            "max_height": null,
            "max_width": null,
            "min_height": null,
            "min_width": null,
            "object_fit": null,
            "object_position": null,
            "order": null,
            "overflow": null,
            "overflow_x": null,
            "overflow_y": null,
            "padding": null,
            "right": null,
            "top": null,
            "visibility": null,
            "width": null
          }
        },
        "960a49eaeb19448786facf7a4c046100": {
          "model_module": "@jupyter-widgets/controls",
          "model_name": "ProgressStyleModel",
          "model_module_version": "1.5.0",
          "state": {
            "_model_module": "@jupyter-widgets/controls",
            "_model_module_version": "1.5.0",
            "_model_name": "ProgressStyleModel",
            "_view_count": null,
            "_view_module": "@jupyter-widgets/base",
            "_view_module_version": "1.2.0",
            "_view_name": "StyleView",
            "bar_color": null,
            "description_width": ""
          }
        },
        "d84a17558042457dbc8d8cf8c237a1bb": {
          "model_module": "@jupyter-widgets/base",
          "model_name": "LayoutModel",
          "model_module_version": "1.2.0",
          "state": {
            "_model_module": "@jupyter-widgets/base",
            "_model_module_version": "1.2.0",
            "_model_name": "LayoutModel",
            "_view_count": null,
            "_view_module": "@jupyter-widgets/base",
            "_view_module_version": "1.2.0",
            "_view_name": "LayoutView",
            "align_content": null,
            "align_items": null,
            "align_self": null,
            "border": null,
            "bottom": null,
            "display": null,
            "flex": null,
            "flex_flow": null,
            "grid_area": null,
            "grid_auto_columns": null,
            "grid_auto_flow": null,
            "grid_auto_rows": null,
            "grid_column": null,
            "grid_gap": null,
            "grid_row": null,
            "grid_template_areas": null,
            "grid_template_columns": null,
            "grid_template_rows": null,
            "height": null,
            "justify_content": null,
            "justify_items": null,
            "left": null,
            "margin": null,
            "max_height": null,
            "max_width": null,
            "min_height": null,
            "min_width": null,
            "object_fit": null,
            "object_position": null,
            "order": null,
            "overflow": null,
            "overflow_x": null,
            "overflow_y": null,
            "padding": null,
            "right": null,
            "top": null,
            "visibility": null,
            "width": null
          }
        },
        "ad946b1a974242d8a13d5ea5d1edfa0c": {
          "model_module": "@jupyter-widgets/controls",
          "model_name": "DescriptionStyleModel",
          "model_module_version": "1.5.0",
          "state": {
            "_model_module": "@jupyter-widgets/controls",
            "_model_module_version": "1.5.0",
            "_model_name": "DescriptionStyleModel",
            "_view_count": null,
            "_view_module": "@jupyter-widgets/base",
            "_view_module_version": "1.2.0",
            "_view_name": "StyleView",
            "description_width": ""
          }
        },
        "ed5b84f43c4641cba64d857d13b597f5": {
          "model_module": "@jupyter-widgets/controls",
          "model_name": "HBoxModel",
          "model_module_version": "1.5.0",
          "state": {
            "_dom_classes": [],
            "_model_module": "@jupyter-widgets/controls",
            "_model_module_version": "1.5.0",
            "_model_name": "HBoxModel",
            "_view_count": null,
            "_view_module": "@jupyter-widgets/controls",
            "_view_module_version": "1.5.0",
            "_view_name": "HBoxView",
            "box_style": "",
            "children": [
              "IPY_MODEL_c8d2ef8b33e34509ad62d0a496ca35ee",
              "IPY_MODEL_84cc4b6fe7d14ea789759fede1ea6e6c",
              "IPY_MODEL_93aad45721e14fb3a5d67b86efaae208"
            ],
            "layout": "IPY_MODEL_0eca8178ac72411796ed4299930a7546"
          }
        },
        "c8d2ef8b33e34509ad62d0a496ca35ee": {
          "model_module": "@jupyter-widgets/controls",
          "model_name": "HTMLModel",
          "model_module_version": "1.5.0",
          "state": {
            "_dom_classes": [],
            "_model_module": "@jupyter-widgets/controls",
            "_model_module_version": "1.5.0",
            "_model_name": "HTMLModel",
            "_view_count": null,
            "_view_module": "@jupyter-widgets/controls",
            "_view_module_version": "1.5.0",
            "_view_name": "HTMLView",
            "description": "",
            "description_tooltip": null,
            "layout": "IPY_MODEL_c0abc68f725b4092b458adce4e534263",
            "placeholder": "​",
            "style": "IPY_MODEL_78c8f3297954428e9f687722ce52c8d1",
            "value": "100%"
          }
        },
        "84cc4b6fe7d14ea789759fede1ea6e6c": {
          "model_module": "@jupyter-widgets/controls",
          "model_name": "FloatProgressModel",
          "model_module_version": "1.5.0",
          "state": {
            "_dom_classes": [],
            "_model_module": "@jupyter-widgets/controls",
            "_model_module_version": "1.5.0",
            "_model_name": "FloatProgressModel",
            "_view_count": null,
            "_view_module": "@jupyter-widgets/controls",
            "_view_module_version": "1.5.0",
            "_view_name": "ProgressView",
            "bar_style": "success",
            "description": "",
            "description_tooltip": null,
            "layout": "IPY_MODEL_d4654deda6374605b88976bff5e538b3",
            "max": 1648877,
            "min": 0,
            "orientation": "horizontal",
            "style": "IPY_MODEL_68a6f95271ef49b1980dcb752ac65d91",
            "value": 1648877
          }
        },
        "93aad45721e14fb3a5d67b86efaae208": {
          "model_module": "@jupyter-widgets/controls",
          "model_name": "HTMLModel",
          "model_module_version": "1.5.0",
          "state": {
            "_dom_classes": [],
            "_model_module": "@jupyter-widgets/controls",
            "_model_module_version": "1.5.0",
            "_model_name": "HTMLModel",
            "_view_count": null,
            "_view_module": "@jupyter-widgets/controls",
            "_view_module_version": "1.5.0",
            "_view_name": "HTMLView",
            "description": "",
            "description_tooltip": null,
            "layout": "IPY_MODEL_ff62cee3ae1944019a26da45d96b00d7",
            "placeholder": "​",
            "style": "IPY_MODEL_05bc1c3315074393ab4d274c2289aab6",
            "value": " 1648877/1648877 [00:00&lt;00:00, 13059480.62it/s]"
          }
        },
        "0eca8178ac72411796ed4299930a7546": {
          "model_module": "@jupyter-widgets/base",
          "model_name": "LayoutModel",
          "model_module_version": "1.2.0",
          "state": {
            "_model_module": "@jupyter-widgets/base",
            "_model_module_version": "1.2.0",
            "_model_name": "LayoutModel",
            "_view_count": null,
            "_view_module": "@jupyter-widgets/base",
            "_view_module_version": "1.2.0",
            "_view_name": "LayoutView",
            "align_content": null,
            "align_items": null,
            "align_self": null,
            "border": null,
            "bottom": null,
            "display": null,
            "flex": null,
            "flex_flow": null,
            "grid_area": null,
            "grid_auto_columns": null,
            "grid_auto_flow": null,
            "grid_auto_rows": null,
            "grid_column": null,
            "grid_gap": null,
            "grid_row": null,
            "grid_template_areas": null,
            "grid_template_columns": null,
            "grid_template_rows": null,
            "height": null,
            "justify_content": null,
            "justify_items": null,
            "left": null,
            "margin": null,
            "max_height": null,
            "max_width": null,
            "min_height": null,
            "min_width": null,
            "object_fit": null,
            "object_position": null,
            "order": null,
            "overflow": null,
            "overflow_x": null,
            "overflow_y": null,
            "padding": null,
            "right": null,
            "top": null,
            "visibility": null,
            "width": null
          }
        },
        "c0abc68f725b4092b458adce4e534263": {
          "model_module": "@jupyter-widgets/base",
          "model_name": "LayoutModel",
          "model_module_version": "1.2.0",
          "state": {
            "_model_module": "@jupyter-widgets/base",
            "_model_module_version": "1.2.0",
            "_model_name": "LayoutModel",
            "_view_count": null,
            "_view_module": "@jupyter-widgets/base",
            "_view_module_version": "1.2.0",
            "_view_name": "LayoutView",
            "align_content": null,
            "align_items": null,
            "align_self": null,
            "border": null,
            "bottom": null,
            "display": null,
            "flex": null,
            "flex_flow": null,
            "grid_area": null,
            "grid_auto_columns": null,
            "grid_auto_flow": null,
            "grid_auto_rows": null,
            "grid_column": null,
            "grid_gap": null,
            "grid_row": null,
            "grid_template_areas": null,
            "grid_template_columns": null,
            "grid_template_rows": null,
            "height": null,
            "justify_content": null,
            "justify_items": null,
            "left": null,
            "margin": null,
            "max_height": null,
            "max_width": null,
            "min_height": null,
            "min_width": null,
            "object_fit": null,
            "object_position": null,
            "order": null,
            "overflow": null,
            "overflow_x": null,
            "overflow_y": null,
            "padding": null,
            "right": null,
            "top": null,
            "visibility": null,
            "width": null
          }
        },
        "78c8f3297954428e9f687722ce52c8d1": {
          "model_module": "@jupyter-widgets/controls",
          "model_name": "DescriptionStyleModel",
          "model_module_version": "1.5.0",
          "state": {
            "_model_module": "@jupyter-widgets/controls",
            "_model_module_version": "1.5.0",
            "_model_name": "DescriptionStyleModel",
            "_view_count": null,
            "_view_module": "@jupyter-widgets/base",
            "_view_module_version": "1.2.0",
            "_view_name": "StyleView",
            "description_width": ""
          }
        },
        "d4654deda6374605b88976bff5e538b3": {
          "model_module": "@jupyter-widgets/base",
          "model_name": "LayoutModel",
          "model_module_version": "1.2.0",
          "state": {
            "_model_module": "@jupyter-widgets/base",
            "_model_module_version": "1.2.0",
            "_model_name": "LayoutModel",
            "_view_count": null,
            "_view_module": "@jupyter-widgets/base",
            "_view_module_version": "1.2.0",
            "_view_name": "LayoutView",
            "align_content": null,
            "align_items": null,
            "align_self": null,
            "border": null,
            "bottom": null,
            "display": null,
            "flex": null,
            "flex_flow": null,
            "grid_area": null,
            "grid_auto_columns": null,
            "grid_auto_flow": null,
            "grid_auto_rows": null,
            "grid_column": null,
            "grid_gap": null,
            "grid_row": null,
            "grid_template_areas": null,
            "grid_template_columns": null,
            "grid_template_rows": null,
            "height": null,
            "justify_content": null,
            "justify_items": null,
            "left": null,
            "margin": null,
            "max_height": null,
            "max_width": null,
            "min_height": null,
            "min_width": null,
            "object_fit": null,
            "object_position": null,
            "order": null,
            "overflow": null,
            "overflow_x": null,
            "overflow_y": null,
            "padding": null,
            "right": null,
            "top": null,
            "visibility": null,
            "width": null
          }
        },
        "68a6f95271ef49b1980dcb752ac65d91": {
          "model_module": "@jupyter-widgets/controls",
          "model_name": "ProgressStyleModel",
          "model_module_version": "1.5.0",
          "state": {
            "_model_module": "@jupyter-widgets/controls",
            "_model_module_version": "1.5.0",
            "_model_name": "ProgressStyleModel",
            "_view_count": null,
            "_view_module": "@jupyter-widgets/base",
            "_view_module_version": "1.2.0",
            "_view_name": "StyleView",
            "bar_color": null,
            "description_width": ""
          }
        },
        "ff62cee3ae1944019a26da45d96b00d7": {
          "model_module": "@jupyter-widgets/base",
          "model_name": "LayoutModel",
          "model_module_version": "1.2.0",
          "state": {
            "_model_module": "@jupyter-widgets/base",
            "_model_module_version": "1.2.0",
            "_model_name": "LayoutModel",
            "_view_count": null,
            "_view_module": "@jupyter-widgets/base",
            "_view_module_version": "1.2.0",
            "_view_name": "LayoutView",
            "align_content": null,
            "align_items": null,
            "align_self": null,
            "border": null,
            "bottom": null,
            "display": null,
            "flex": null,
            "flex_flow": null,
            "grid_area": null,
            "grid_auto_columns": null,
            "grid_auto_flow": null,
            "grid_auto_rows": null,
            "grid_column": null,
            "grid_gap": null,
            "grid_row": null,
            "grid_template_areas": null,
            "grid_template_columns": null,
            "grid_template_rows": null,
            "height": null,
            "justify_content": null,
            "justify_items": null,
            "left": null,
            "margin": null,
            "max_height": null,
            "max_width": null,
            "min_height": null,
            "min_width": null,
            "object_fit": null,
            "object_position": null,
            "order": null,
            "overflow": null,
            "overflow_x": null,
            "overflow_y": null,
            "padding": null,
            "right": null,
            "top": null,
            "visibility": null,
            "width": null
          }
        },
        "05bc1c3315074393ab4d274c2289aab6": {
          "model_module": "@jupyter-widgets/controls",
          "model_name": "DescriptionStyleModel",
          "model_module_version": "1.5.0",
          "state": {
            "_model_module": "@jupyter-widgets/controls",
            "_model_module_version": "1.5.0",
            "_model_name": "DescriptionStyleModel",
            "_view_count": null,
            "_view_module": "@jupyter-widgets/base",
            "_view_module_version": "1.2.0",
            "_view_name": "StyleView",
            "description_width": ""
          }
        },
        "4971da2bc8b443cfa44ae9d3f7831d07": {
          "model_module": "@jupyter-widgets/controls",
          "model_name": "HBoxModel",
          "model_module_version": "1.5.0",
          "state": {
            "_dom_classes": [],
            "_model_module": "@jupyter-widgets/controls",
            "_model_module_version": "1.5.0",
            "_model_name": "HBoxModel",
            "_view_count": null,
            "_view_module": "@jupyter-widgets/controls",
            "_view_module_version": "1.5.0",
            "_view_name": "HBoxView",
            "box_style": "",
            "children": [
              "IPY_MODEL_b1f58a05fbc542a5a11b155ad0b00142",
              "IPY_MODEL_8a0a27c4dcb24f71b4d47c4800b0defd",
              "IPY_MODEL_772478dd0f7c4afea13415293a2db9ff"
            ],
            "layout": "IPY_MODEL_14e9eea42674468d9b779c79df747ee3"
          }
        },
        "b1f58a05fbc542a5a11b155ad0b00142": {
          "model_module": "@jupyter-widgets/controls",
          "model_name": "HTMLModel",
          "model_module_version": "1.5.0",
          "state": {
            "_dom_classes": [],
            "_model_module": "@jupyter-widgets/controls",
            "_model_module_version": "1.5.0",
            "_model_name": "HTMLModel",
            "_view_count": null,
            "_view_module": "@jupyter-widgets/controls",
            "_view_module_version": "1.5.0",
            "_view_name": "HTMLView",
            "description": "",
            "description_tooltip": null,
            "layout": "IPY_MODEL_dd480c12265540b0b0b844bcd10d401c",
            "placeholder": "​",
            "style": "IPY_MODEL_72b6d46078ef445dbd713e14f1372e4d",
            "value": "100%"
          }
        },
        "8a0a27c4dcb24f71b4d47c4800b0defd": {
          "model_module": "@jupyter-widgets/controls",
          "model_name": "FloatProgressModel",
          "model_module_version": "1.5.0",
          "state": {
            "_dom_classes": [],
            "_model_module": "@jupyter-widgets/controls",
            "_model_module_version": "1.5.0",
            "_model_name": "FloatProgressModel",
            "_view_count": null,
            "_view_module": "@jupyter-widgets/controls",
            "_view_module_version": "1.5.0",
            "_view_name": "ProgressView",
            "bar_style": "success",
            "description": "",
            "description_tooltip": null,
            "layout": "IPY_MODEL_7368172c1aa94cdba37fc9e096eef1d1",
            "max": 4542,
            "min": 0,
            "orientation": "horizontal",
            "style": "IPY_MODEL_94222b0835f74eea80de539b64a3934a",
            "value": 4542
          }
        },
        "772478dd0f7c4afea13415293a2db9ff": {
          "model_module": "@jupyter-widgets/controls",
          "model_name": "HTMLModel",
          "model_module_version": "1.5.0",
          "state": {
            "_dom_classes": [],
            "_model_module": "@jupyter-widgets/controls",
            "_model_module_version": "1.5.0",
            "_model_name": "HTMLModel",
            "_view_count": null,
            "_view_module": "@jupyter-widgets/controls",
            "_view_module_version": "1.5.0",
            "_view_name": "HTMLView",
            "description": "",
            "description_tooltip": null,
            "layout": "IPY_MODEL_cc25790cb4804f0daf5868b585fa1da9",
            "placeholder": "​",
            "style": "IPY_MODEL_4ad25f224b4e442093df1992206b4155",
            "value": " 4542/4542 [00:00&lt;00:00, 202237.06it/s]"
          }
        },
        "14e9eea42674468d9b779c79df747ee3": {
          "model_module": "@jupyter-widgets/base",
          "model_name": "LayoutModel",
          "model_module_version": "1.2.0",
          "state": {
            "_model_module": "@jupyter-widgets/base",
            "_model_module_version": "1.2.0",
            "_model_name": "LayoutModel",
            "_view_count": null,
            "_view_module": "@jupyter-widgets/base",
            "_view_module_version": "1.2.0",
            "_view_name": "LayoutView",
            "align_content": null,
            "align_items": null,
            "align_self": null,
            "border": null,
            "bottom": null,
            "display": null,
            "flex": null,
            "flex_flow": null,
            "grid_area": null,
            "grid_auto_columns": null,
            "grid_auto_flow": null,
            "grid_auto_rows": null,
            "grid_column": null,
            "grid_gap": null,
            "grid_row": null,
            "grid_template_areas": null,
            "grid_template_columns": null,
            "grid_template_rows": null,
            "height": null,
            "justify_content": null,
            "justify_items": null,
            "left": null,
            "margin": null,
            "max_height": null,
            "max_width": null,
            "min_height": null,
            "min_width": null,
            "object_fit": null,
            "object_position": null,
            "order": null,
            "overflow": null,
            "overflow_x": null,
            "overflow_y": null,
            "padding": null,
            "right": null,
            "top": null,
            "visibility": null,
            "width": null
          }
        },
        "dd480c12265540b0b0b844bcd10d401c": {
          "model_module": "@jupyter-widgets/base",
          "model_name": "LayoutModel",
          "model_module_version": "1.2.0",
          "state": {
            "_model_module": "@jupyter-widgets/base",
            "_model_module_version": "1.2.0",
            "_model_name": "LayoutModel",
            "_view_count": null,
            "_view_module": "@jupyter-widgets/base",
            "_view_module_version": "1.2.0",
            "_view_name": "LayoutView",
            "align_content": null,
            "align_items": null,
            "align_self": null,
            "border": null,
            "bottom": null,
            "display": null,
            "flex": null,
            "flex_flow": null,
            "grid_area": null,
            "grid_auto_columns": null,
            "grid_auto_flow": null,
            "grid_auto_rows": null,
            "grid_column": null,
            "grid_gap": null,
            "grid_row": null,
            "grid_template_areas": null,
            "grid_template_columns": null,
            "grid_template_rows": null,
            "height": null,
            "justify_content": null,
            "justify_items": null,
            "left": null,
            "margin": null,
            "max_height": null,
            "max_width": null,
            "min_height": null,
            "min_width": null,
            "object_fit": null,
            "object_position": null,
            "order": null,
            "overflow": null,
            "overflow_x": null,
            "overflow_y": null,
            "padding": null,
            "right": null,
            "top": null,
            "visibility": null,
            "width": null
          }
        },
        "72b6d46078ef445dbd713e14f1372e4d": {
          "model_module": "@jupyter-widgets/controls",
          "model_name": "DescriptionStyleModel",
          "model_module_version": "1.5.0",
          "state": {
            "_model_module": "@jupyter-widgets/controls",
            "_model_module_version": "1.5.0",
            "_model_name": "DescriptionStyleModel",
            "_view_count": null,
            "_view_module": "@jupyter-widgets/base",
            "_view_module_version": "1.2.0",
            "_view_name": "StyleView",
            "description_width": ""
          }
        },
        "7368172c1aa94cdba37fc9e096eef1d1": {
          "model_module": "@jupyter-widgets/base",
          "model_name": "LayoutModel",
          "model_module_version": "1.2.0",
          "state": {
            "_model_module": "@jupyter-widgets/base",
            "_model_module_version": "1.2.0",
            "_model_name": "LayoutModel",
            "_view_count": null,
            "_view_module": "@jupyter-widgets/base",
            "_view_module_version": "1.2.0",
            "_view_name": "LayoutView",
            "align_content": null,
            "align_items": null,
            "align_self": null,
            "border": null,
            "bottom": null,
            "display": null,
            "flex": null,
            "flex_flow": null,
            "grid_area": null,
            "grid_auto_columns": null,
            "grid_auto_flow": null,
            "grid_auto_rows": null,
            "grid_column": null,
            "grid_gap": null,
            "grid_row": null,
            "grid_template_areas": null,
            "grid_template_columns": null,
            "grid_template_rows": null,
            "height": null,
            "justify_content": null,
            "justify_items": null,
            "left": null,
            "margin": null,
            "max_height": null,
            "max_width": null,
            "min_height": null,
            "min_width": null,
            "object_fit": null,
            "object_position": null,
            "order": null,
            "overflow": null,
            "overflow_x": null,
            "overflow_y": null,
            "padding": null,
            "right": null,
            "top": null,
            "visibility": null,
            "width": null
          }
        },
        "94222b0835f74eea80de539b64a3934a": {
          "model_module": "@jupyter-widgets/controls",
          "model_name": "ProgressStyleModel",
          "model_module_version": "1.5.0",
          "state": {
            "_model_module": "@jupyter-widgets/controls",
            "_model_module_version": "1.5.0",
            "_model_name": "ProgressStyleModel",
            "_view_count": null,
            "_view_module": "@jupyter-widgets/base",
            "_view_module_version": "1.2.0",
            "_view_name": "StyleView",
            "bar_color": null,
            "description_width": ""
          }
        },
        "cc25790cb4804f0daf5868b585fa1da9": {
          "model_module": "@jupyter-widgets/base",
          "model_name": "LayoutModel",
          "model_module_version": "1.2.0",
          "state": {
            "_model_module": "@jupyter-widgets/base",
            "_model_module_version": "1.2.0",
            "_model_name": "LayoutModel",
            "_view_count": null,
            "_view_module": "@jupyter-widgets/base",
            "_view_module_version": "1.2.0",
            "_view_name": "LayoutView",
            "align_content": null,
            "align_items": null,
            "align_self": null,
            "border": null,
            "bottom": null,
            "display": null,
            "flex": null,
            "flex_flow": null,
            "grid_area": null,
            "grid_auto_columns": null,
            "grid_auto_flow": null,
            "grid_auto_rows": null,
            "grid_column": null,
            "grid_gap": null,
            "grid_row": null,
            "grid_template_areas": null,
            "grid_template_columns": null,
            "grid_template_rows": null,
            "height": null,
            "justify_content": null,
            "justify_items": null,
            "left": null,
            "margin": null,
            "max_height": null,
            "max_width": null,
            "min_height": null,
            "min_width": null,
            "object_fit": null,
            "object_position": null,
            "order": null,
            "overflow": null,
            "overflow_x": null,
            "overflow_y": null,
            "padding": null,
            "right": null,
            "top": null,
            "visibility": null,
            "width": null
          }
        },
        "4ad25f224b4e442093df1992206b4155": {
          "model_module": "@jupyter-widgets/controls",
          "model_name": "DescriptionStyleModel",
          "model_module_version": "1.5.0",
          "state": {
            "_model_module": "@jupyter-widgets/controls",
            "_model_module_version": "1.5.0",
            "_model_name": "DescriptionStyleModel",
            "_view_count": null,
            "_view_module": "@jupyter-widgets/base",
            "_view_module_version": "1.2.0",
            "_view_name": "StyleView",
            "description_width": ""
          }
        }
      }
    }
  },
  "cells": [
    {
      "cell_type": "markdown",
      "metadata": {
        "id": "view-in-github",
        "colab_type": "text"
      },
      "source": [
        "<a href=\"https://colab.research.google.com/github/priyanka-kumari-01/Extensive-Vision-AI-Program-EVA8/blob/main/S_2.5_pytorch_101/Session_2_5_PyTorch_101.ipynb\" target=\"_parent\"><img src=\"https://colab.research.google.com/assets/colab-badge.svg\" alt=\"Open In Colab\"/></a>"
      ]
    },
    {
      "cell_type": "code",
      "source": [
        "import torch\n",
        "from torchvision import datasets\n",
        "from torchvision.transforms import ToTensor\n",
        "from torch.utils.data import Dataset\n",
        "from torch.utils.data.dataloader import DataLoader\n",
        "import torch.optim as optim"
      ],
      "metadata": {
        "id": "VGxlfcEHA26M"
      },
      "execution_count": null,
      "outputs": []
    },
    {
      "cell_type": "code",
      "source": [
        "device = 'cuda' if torch.cuda.is_available() else 'cpu'"
      ],
      "metadata": {
        "id": "ZVTKmhQW_aYF"
      },
      "execution_count": null,
      "outputs": []
    },
    {
      "cell_type": "code",
      "source": [
        "device"
      ],
      "metadata": {
        "colab": {
          "base_uri": "https://localhost:8080/",
          "height": 37
        },
        "id": "xJQV68InANtS",
        "outputId": "c8825084-7018-49cb-8fed-e832b2d9a52e"
      },
      "execution_count": null,
      "outputs": [
        {
          "output_type": "execute_result",
          "data": {
            "text/plain": [
              "'cuda'"
            ],
            "application/vnd.google.colaboratory.intrinsic+json": {
              "type": "string"
            }
          },
          "metadata": {},
          "execution_count": 3
        }
      ]
    },
    {
      "cell_type": "code",
      "source": [
        "from torchvision.datasets.mnist import MNIST\n",
        "from torch.utils.data import Dataset\n",
        "class MyDataset(Dataset):\n",
        "    def __init__(self):\n",
        "       self.MNIST_Data = datasets.MNIST(\n",
        "            root=\"data\",\n",
        "            train=True,\n",
        "            download=True,\n",
        "            transform=ToTensor()\n",
        "        )\n",
        "       self.rand_data = torch.randint(0,10,(1,len(self.MNIST_Data))).squeeze().to(device)\n",
        "\n",
        "    def __getitem__(self, index):\n",
        "        # Convert int to 1d array representing from 0 to 9\n",
        "        random_array = [0,0,0,0,0,0,0,0,0,0]\n",
        "        random_array[self.rand_data[index]]= 1\n",
        "        image, label = self.MNIST_Data[index]\n",
        "        return image, label, torch.tensor(random_array)\n",
        "\n",
        "    def __len__(self):\n",
        "        return len(self.MNIST_Data)\n"
      ],
      "metadata": {
        "id": "AlPFWiaGRMFC"
      },
      "execution_count": null,
      "outputs": []
    },
    {
      "cell_type": "code",
      "source": [
        "myData = MyDataset()"
      ],
      "metadata": {
        "id": "-QTAdyVRbzrJ",
        "colab": {
          "base_uri": "https://localhost:8080/",
          "height": 417,
          "referenced_widgets": [
            "309b736f9c36411e8a48233a61bd29a5",
            "cea98ad5f1cd40e0b1cc25f15ea5edb2",
            "b5a02229e68d4ec7b0027540e2e06aa5",
            "eb6eb8da44e04aa597b2cdac1ba56d72",
            "b1351b3696dd4f9e90d46061f0d3ce18",
            "51f289e2e1e34074af95d0c9de965feb",
            "7ef065f7aefb477cb7a2fe23277c0f98",
            "2e82063c2c3a47a493a37d0065c4d671",
            "1968c8b95a9b4fbcabf7b66a53450c74",
            "4eaba925a433479eb35fac0f62736132",
            "be25209d28754fe8a1a7967cf2cce456",
            "ea58b736990d4008916e59b53108fec4",
            "e8b49b9a2bb745b7a54de33c7094564b",
            "2ebd8f35fe8443b283544c0f6d187fc4",
            "3913786863f84cada5e06466a06703e7",
            "1be806087e3a44a982765fc31e378777",
            "05c123cc1c9b47a3922dd83f0bdcbbb1",
            "1ecbde017cef4fa8b10be36066db6240",
            "1c6c769080934a3fb821cf03cb2a7b8b",
            "960a49eaeb19448786facf7a4c046100",
            "d84a17558042457dbc8d8cf8c237a1bb",
            "ad946b1a974242d8a13d5ea5d1edfa0c",
            "ed5b84f43c4641cba64d857d13b597f5",
            "c8d2ef8b33e34509ad62d0a496ca35ee",
            "84cc4b6fe7d14ea789759fede1ea6e6c",
            "93aad45721e14fb3a5d67b86efaae208",
            "0eca8178ac72411796ed4299930a7546",
            "c0abc68f725b4092b458adce4e534263",
            "78c8f3297954428e9f687722ce52c8d1",
            "d4654deda6374605b88976bff5e538b3",
            "68a6f95271ef49b1980dcb752ac65d91",
            "ff62cee3ae1944019a26da45d96b00d7",
            "05bc1c3315074393ab4d274c2289aab6",
            "4971da2bc8b443cfa44ae9d3f7831d07",
            "b1f58a05fbc542a5a11b155ad0b00142",
            "8a0a27c4dcb24f71b4d47c4800b0defd",
            "772478dd0f7c4afea13415293a2db9ff",
            "14e9eea42674468d9b779c79df747ee3",
            "dd480c12265540b0b0b844bcd10d401c",
            "72b6d46078ef445dbd713e14f1372e4d",
            "7368172c1aa94cdba37fc9e096eef1d1",
            "94222b0835f74eea80de539b64a3934a",
            "cc25790cb4804f0daf5868b585fa1da9",
            "4ad25f224b4e442093df1992206b4155"
          ]
        },
        "outputId": "12114f84-4c55-4b92-94a5-6dec357d8b14"
      },
      "execution_count": null,
      "outputs": [
        {
          "output_type": "stream",
          "name": "stdout",
          "text": [
            "Downloading http://yann.lecun.com/exdb/mnist/train-images-idx3-ubyte.gz\n",
            "Downloading http://yann.lecun.com/exdb/mnist/train-images-idx3-ubyte.gz to data/MNIST/raw/train-images-idx3-ubyte.gz\n"
          ]
        },
        {
          "output_type": "display_data",
          "data": {
            "text/plain": [
              "  0%|          | 0/9912422 [00:00<?, ?it/s]"
            ],
            "application/vnd.jupyter.widget-view+json": {
              "version_major": 2,
              "version_minor": 0,
              "model_id": "309b736f9c36411e8a48233a61bd29a5"
            }
          },
          "metadata": {}
        },
        {
          "output_type": "stream",
          "name": "stdout",
          "text": [
            "Extracting data/MNIST/raw/train-images-idx3-ubyte.gz to data/MNIST/raw\n",
            "\n",
            "Downloading http://yann.lecun.com/exdb/mnist/train-labels-idx1-ubyte.gz\n",
            "Downloading http://yann.lecun.com/exdb/mnist/train-labels-idx1-ubyte.gz to data/MNIST/raw/train-labels-idx1-ubyte.gz\n"
          ]
        },
        {
          "output_type": "display_data",
          "data": {
            "text/plain": [
              "  0%|          | 0/28881 [00:00<?, ?it/s]"
            ],
            "application/vnd.jupyter.widget-view+json": {
              "version_major": 2,
              "version_minor": 0,
              "model_id": "ea58b736990d4008916e59b53108fec4"
            }
          },
          "metadata": {}
        },
        {
          "output_type": "stream",
          "name": "stdout",
          "text": [
            "Extracting data/MNIST/raw/train-labels-idx1-ubyte.gz to data/MNIST/raw\n",
            "\n",
            "Downloading http://yann.lecun.com/exdb/mnist/t10k-images-idx3-ubyte.gz\n",
            "Downloading http://yann.lecun.com/exdb/mnist/t10k-images-idx3-ubyte.gz to data/MNIST/raw/t10k-images-idx3-ubyte.gz\n"
          ]
        },
        {
          "output_type": "display_data",
          "data": {
            "text/plain": [
              "  0%|          | 0/1648877 [00:00<?, ?it/s]"
            ],
            "application/vnd.jupyter.widget-view+json": {
              "version_major": 2,
              "version_minor": 0,
              "model_id": "ed5b84f43c4641cba64d857d13b597f5"
            }
          },
          "metadata": {}
        },
        {
          "output_type": "stream",
          "name": "stdout",
          "text": [
            "Extracting data/MNIST/raw/t10k-images-idx3-ubyte.gz to data/MNIST/raw\n",
            "\n",
            "Downloading http://yann.lecun.com/exdb/mnist/t10k-labels-idx1-ubyte.gz\n",
            "Downloading http://yann.lecun.com/exdb/mnist/t10k-labels-idx1-ubyte.gz to data/MNIST/raw/t10k-labels-idx1-ubyte.gz\n"
          ]
        },
        {
          "output_type": "display_data",
          "data": {
            "text/plain": [
              "  0%|          | 0/4542 [00:00<?, ?it/s]"
            ],
            "application/vnd.jupyter.widget-view+json": {
              "version_major": 2,
              "version_minor": 0,
              "model_id": "4971da2bc8b443cfa44ae9d3f7831d07"
            }
          },
          "metadata": {}
        },
        {
          "output_type": "stream",
          "name": "stdout",
          "text": [
            "Extracting data/MNIST/raw/t10k-labels-idx1-ubyte.gz to data/MNIST/raw\n",
            "\n"
          ]
        }
      ]
    },
    {
      "cell_type": "code",
      "source": [
        "trainLoader = torch.utils.data.DataLoader(\n",
        "    myData,\n",
        "    batch_size=20,\n",
        "    shuffle = True\n",
        ")"
      ],
      "metadata": {
        "id": "wwttu8HPUFUn"
      },
      "execution_count": null,
      "outputs": []
    },
    {
      "cell_type": "code",
      "source": [
        "import torch.nn as nn\n",
        "import torch.nn.functional as F\n",
        "class Network(nn.Module):\n",
        "    def __init__(self):\n",
        "        super().__init__()\n",
        "        #Image: {in:28 out: 24} \n",
        "        self.conv1 = nn.Conv2d(in_channels=1, out_channels=32, kernel_size=5)\n",
        "        #Image: {in:24 out: 20} \n",
        "        self.conv2 = nn.Conv2d(in_channels=32, out_channels=64, kernel_size=5)\n",
        "        #MaxPool: Image {in: 20 out: 10}\n",
        "        #Image: {in:10 out: 8} \n",
        "        self.conv3 = nn.Conv2d(in_channels=64, out_channels=128, kernel_size=3)\n",
        "        self.fc1 = nn.Linear(in_features=128*8*8, out_features= 256)\n",
        "        self.fc2 = nn.Linear(in_features=256, out_features= 10)\n",
        "        self.out = nn.Linear(in_features=10, out_features= 19)\n",
        "\n",
        "    def forward(self, img, rand):\n",
        "        #x = x.reshape(1, 1*28*28)\n",
        "        img = self.conv1(img)\n",
        "        img = F.relu(img)\n",
        "        img = self.conv2(img)\n",
        "        img = F.relu(img)\n",
        "        img = F.max_pool2d(img, kernel_size=2)\n",
        "        img = self.conv3(img)\n",
        "        img = F.relu(img)\n",
        "        img = img.reshape(-1, 128*8*8)\n",
        "        img = self.fc1(img)\n",
        "        img = F.relu(img)\n",
        "        preds_img = self.fc2(img)\n",
        "        preds_randImg = preds_img + rand\n",
        "        preds_randImg = self.out(preds_randImg)\n",
        "        preds_randImg = F.softmax(preds_randImg, dim=1) #make result positive\n",
        "        return preds_img, preds_randImg\n",
        "\n",
        "network = Network()\n",
        "network.to(device)"
      ],
      "metadata": {
        "id": "6fwUBypHS2Nu",
        "colab": {
          "base_uri": "https://localhost:8080/"
        },
        "outputId": "2780a45a-b81c-4837-b6ad-f570e929429b"
      },
      "execution_count": null,
      "outputs": [
        {
          "output_type": "execute_result",
          "data": {
            "text/plain": [
              "Network(\n",
              "  (conv1): Conv2d(1, 32, kernel_size=(5, 5), stride=(1, 1))\n",
              "  (conv2): Conv2d(32, 64, kernel_size=(5, 5), stride=(1, 1))\n",
              "  (conv3): Conv2d(64, 128, kernel_size=(3, 3), stride=(1, 1))\n",
              "  (fc1): Linear(in_features=8192, out_features=256, bias=True)\n",
              "  (fc2): Linear(in_features=256, out_features=10, bias=True)\n",
              "  (out): Linear(in_features=10, out_features=19, bias=True)\n",
              ")"
            ]
          },
          "metadata": {},
          "execution_count": 7
        }
      ]
    },
    {
      "cell_type": "code",
      "source": [
        "for name, para in network.named_parameters():\n",
        "    print(name, '\\t\\t', para.shape)"
      ],
      "metadata": {
        "colab": {
          "base_uri": "https://localhost:8080/"
        },
        "id": "VrJvgzAe9KEC",
        "outputId": "7869357c-664a-4ec6-93f5-5d8a9eb37e61"
      },
      "execution_count": null,
      "outputs": [
        {
          "output_type": "stream",
          "name": "stdout",
          "text": [
            "conv1.weight \t\t torch.Size([32, 1, 5, 5])\n",
            "conv1.bias \t\t torch.Size([32])\n",
            "conv2.weight \t\t torch.Size([64, 32, 5, 5])\n",
            "conv2.bias \t\t torch.Size([64])\n",
            "conv3.weight \t\t torch.Size([128, 64, 3, 3])\n",
            "conv3.bias \t\t torch.Size([128])\n",
            "fc1.weight \t\t torch.Size([256, 8192])\n",
            "fc1.bias \t\t torch.Size([256])\n",
            "fc2.weight \t\t torch.Size([10, 256])\n",
            "fc2.bias \t\t torch.Size([10])\n",
            "out.weight \t\t torch.Size([19, 10])\n",
            "out.bias \t\t torch.Size([19])\n"
          ]
        }
      ]
    },
    {
      "cell_type": "code",
      "source": [
        "batch = next(iter(trainLoader))\n",
        "image, label , random = batch\n",
        "print(label)"
      ],
      "metadata": {
        "colab": {
          "base_uri": "https://localhost:8080/"
        },
        "id": "F6Q8lP_Kj4Ny",
        "outputId": "07d0f431-d19d-496e-d1de-b495e5796b5a"
      },
      "execution_count": null,
      "outputs": [
        {
          "output_type": "stream",
          "name": "stdout",
          "text": [
            "tensor([3, 1, 2, 6, 4, 7, 7, 3, 5, 8, 9, 4, 6, 9, 7, 8, 1, 9, 4, 1])\n"
          ]
        }
      ]
    },
    {
      "cell_type": "code",
      "source": [
        "image, label , random = batch"
      ],
      "metadata": {
        "id": "BV-DI1CpkoKS"
      },
      "execution_count": null,
      "outputs": []
    },
    {
      "cell_type": "code",
      "source": [
        "img_preds, preds_randImg  = network(image.to(device), random.to(device))\n",
        "img_preds.shape, preds_randImg.shape"
      ],
      "metadata": {
        "colab": {
          "base_uri": "https://localhost:8080/"
        },
        "id": "UJP2xZl7n7gQ",
        "outputId": "d12af81f-40b7-4745-fbb3-1386de233224"
      },
      "execution_count": null,
      "outputs": [
        {
          "output_type": "execute_result",
          "data": {
            "text/plain": [
              "(torch.Size([20, 10]), torch.Size([20, 19]))"
            ]
          },
          "metadata": {},
          "execution_count": 11
        }
      ]
    },
    {
      "cell_type": "code",
      "source": [
        "random.argmax(dim=1)"
      ],
      "metadata": {
        "colab": {
          "base_uri": "https://localhost:8080/"
        },
        "id": "PGMZI9m-4Rdj",
        "outputId": "4f1040ac-3012-4ef0-85df-4cdf12f31e8f"
      },
      "execution_count": null,
      "outputs": [
        {
          "output_type": "execute_result",
          "data": {
            "text/plain": [
              "tensor([7, 2, 1, 6, 2, 6, 1, 3, 6, 2, 0, 2, 2, 9, 6, 3, 1, 6, 4, 2])"
            ]
          },
          "metadata": {},
          "execution_count": 12
        }
      ]
    },
    {
      "cell_type": "code",
      "source": [
        "label, random.argmax(dim=1)"
      ],
      "metadata": {
        "colab": {
          "base_uri": "https://localhost:8080/"
        },
        "id": "vcauMOal4fOW",
        "outputId": "a8073c17-d2a4-44c9-ea07-d713cd75bbf8"
      },
      "execution_count": null,
      "outputs": [
        {
          "output_type": "execute_result",
          "data": {
            "text/plain": [
              "(tensor([3, 1, 2, 6, 4, 7, 7, 3, 5, 8, 9, 4, 6, 9, 7, 8, 1, 9, 4, 1]),\n",
              " tensor([7, 2, 1, 6, 2, 6, 1, 3, 6, 2, 0, 2, 2, 9, 6, 3, 1, 6, 4, 2]))"
            ]
          },
          "metadata": {},
          "execution_count": 13
        }
      ]
    },
    {
      "cell_type": "code",
      "source": [
        "#get_num_correct(preds_randImg, label+random.argmax(dim=1))"
      ],
      "metadata": {
        "id": "fD1OKnSi05wp"
      },
      "execution_count": null,
      "outputs": []
    },
    {
      "cell_type": "code",
      "source": [
        "def get_num_correct(pred , label):\n",
        "    return pred.argmax(dim=1).eq(label).sum().item()"
      ],
      "metadata": {
        "id": "hcXPQUjgsDEj"
      },
      "execution_count": null,
      "outputs": []
    },
    {
      "cell_type": "code",
      "source": [
        "optimizer = optim.Adam(network.parameters(), lr = 0.001)\n",
        "\n",
        "for epoch in range(10):\n",
        "    total_loss_img =0\n",
        "    total_correct_img = 0\n",
        "    total_loss_randImg =0\n",
        "    total_correct_randImg= 0\n",
        "    for batch in trainLoader:\n",
        "        image, label , random = batch\n",
        "\n",
        "        img_preds, preds_randImg = network(image.to(device), random.to(device))\n",
        "        loss_img = F.cross_entropy(img_preds.to(device), label.to(device)) #image Output\n",
        "        loss_randImg = F.cross_entropy(preds_randImg.to(device), (label+random.argmax(dim=1)).to(device))\n",
        "        loss = loss_img+loss_randImg\n",
        "\n",
        "        optimizer.zero_grad()\n",
        "        loss_randImg.backward(retain_graph=True)\n",
        "        loss_img.backward()\n",
        "        #loss.backward()\n",
        "        optimizer.step()\n",
        "\n",
        "        total_loss_img+= loss_img.item()\n",
        "        total_correct_img+= get_num_correct(img_preds.to(device), label.to(device))\n",
        "        total_loss_randImg+= loss_randImg.item()\n",
        "        total_correct_randImg+= get_num_correct(preds_randImg.to(device), (label+random.argmax(dim=1)).to(device))\n",
        "\n",
        "    print(\n",
        "        \"epoch:\", epoch,\n",
        "        \"mnist_correct: %.4f\"%((total_correct_img/len(myData))*100),\n",
        "        \"mnistt_loss \", total_loss_img,\n",
        "        \"total_correct_randImg:  %.4f\"%((total_correct_randImg/len(myData))*100),\n",
        "        \"total_loss_randImg \", total_loss_randImg,\n",
        "        \"total_correct: \", total_correct_img + total_correct_randImg,\n",
        "        \"total_loss %.4f\"%(((total_loss_img+total_loss_randImg)/len(myData)*2)*100)\n",
        "    )"
      ],
      "metadata": {
        "colab": {
          "base_uri": "https://localhost:8080/"
        },
        "id": "lE4LJWmSVm-L",
        "outputId": "93529c73-084c-4f59-b1c6-cdb504207371"
      },
      "execution_count": null,
      "outputs": [
        {
          "output_type": "stream",
          "name": "stdout",
          "text": [
            "epoch: 0 mnist_correct: 99.9800 mnistt_loss  5.147966181490119 total_correct_randImg:  40.7683 total_loss_randImg  7924.860264778137 total_correct:  84449 total_loss 26.4334\n",
            "epoch: 1 mnist_correct: 99.9733 mnistt_loss  5.4595580078494095 total_correct_randImg:  41.8600 total_loss_randImg  7878.965674877167 total_correct:  85100 total_loss 26.2814\n",
            "epoch: 2 mnist_correct: 99.9850 mnistt_loss  4.684863976076485 total_correct_randImg:  42.5850 total_loss_randImg  7847.921477794647 total_correct:  85542 total_loss 26.1754\n",
            "epoch: 3 mnist_correct: 99.9750 mnistt_loss  4.423047744107862 total_correct_randImg:  43.0200 total_loss_randImg  7823.751688241959 total_correct:  85797 total_loss 26.0939\n",
            "epoch: 4 mnist_correct: 99.9667 mnistt_loss  4.9244327028591215 total_correct_randImg:  43.3633 total_loss_randImg  7808.15487074852 total_correct:  85998 total_loss 26.0436\n",
            "epoch: 5 mnist_correct: 99.9567 mnistt_loss  5.810167410459144 total_correct_randImg:  43.6700 total_loss_randImg  7794.111377477646 total_correct:  86176 total_loss 25.9997\n",
            "epoch: 6 mnist_correct: 99.9783 mnistt_loss  4.063064366432172 total_correct_randImg:  43.9533 total_loss_randImg  7782.909716129303 total_correct:  86359 total_loss 25.9566\n",
            "epoch: 7 mnist_correct: 99.9833 mnistt_loss  3.7453316649898625 total_correct_randImg:  44.3700 total_loss_randImg  7770.116204738617 total_correct:  86612 total_loss 25.9129\n",
            "epoch: 8 mnist_correct: 99.9867 mnistt_loss  3.5842745875779656 total_correct_randImg:  44.7633 total_loss_randImg  7755.431356191635 total_correct:  86850 total_loss 25.8634\n",
            "epoch: 9 mnist_correct: 99.9683 mnistt_loss  4.558711977269468 total_correct_randImg:  45.0567 total_loss_randImg  7745.194581270218 total_correct:  87015 total_loss 25.8325\n"
          ]
        }
      ]
    },
    {
      "cell_type": "code",
      "source": [
        "for epoch in range(40):\n",
        "    total_loss_img =0\n",
        "    total_correct_img = 0\n",
        "    total_loss_randImg =0\n",
        "    total_correct_randImg= 0\n",
        "    for batch in trainLoader:\n",
        "        image, label , random = batch\n",
        "\n",
        "        img_preds, preds_randImg = network(image.to(device), random.to(device))\n",
        "        loss_img = F.cross_entropy(img_preds.to(device), label.to(device)) #image Output\n",
        "        loss_randImg = F.cross_entropy(preds_randImg.to(device), (label+random.argmax(dim=1)).to(device))\n",
        "        loss = loss_img+loss_randImg\n",
        "\n",
        "        optimizer.zero_grad()\n",
        "        loss_randImg.backward(retain_graph=True)\n",
        "        loss_img.backward()\n",
        "        #loss.backward()\n",
        "        optimizer.step()\n",
        "\n",
        "        total_loss_img+= loss_img.item()\n",
        "        total_correct_img+= get_num_correct(img_preds.to(device), label.to(device))\n",
        "        total_loss_randImg+= loss_randImg.item()\n",
        "        total_correct_randImg+= get_num_correct(preds_randImg.to(device), (label+random.argmax(dim=1)).to(device))\n",
        "\n",
        "    print(\n",
        "        \"epoch:\", epoch,\n",
        "        \"mnist_correct: %.4f\"%((total_correct_img/len(myData))*100),\n",
        "        \"mnistt_loss \", total_loss_img,\n",
        "        \"total_correct_randImg:  %.4f\"%((total_correct_randImg/len(myData))*100),\n",
        "        \"total_loss_randImg \", total_loss_randImg,\n",
        "        \"total_correct: \", total_correct_img + total_correct_randImg,\n",
        "        \"total_loss %.4f\"%(((total_loss_img+total_loss_randImg)/len(myData)*2)*100)\n",
        "    )"
      ],
      "metadata": {
        "colab": {
          "base_uri": "https://localhost:8080/"
        },
        "id": "FUtp8e9WyAGI",
        "outputId": "f60f9af2-c15b-417d-9433-a311bba755f8"
      },
      "execution_count": null,
      "outputs": [
        {
          "output_type": "stream",
          "name": "stdout",
          "text": [
            "epoch: 0 mnist_correct: 99.9683 mnistt_loss  3.627679469161194 total_correct_randImg:  45.5000 total_loss_randImg  7730.380918979645 total_correct:  87281 total_loss 25.7800\n",
            "epoch: 1 mnist_correct: 99.9717 mnistt_loss  3.8367421145924254 total_correct_randImg:  45.7133 total_loss_randImg  7722.177541971207 total_correct:  87411 total_loss 25.7534\n",
            "epoch: 2 mnist_correct: 99.9750 mnistt_loss  3.457020449563288 total_correct_randImg:  45.8200 total_loss_randImg  7718.915107011795 total_correct:  87477 total_loss 25.7412\n",
            "epoch: 3 mnist_correct: 99.9783 mnistt_loss  3.152484122651458 total_correct_randImg:  46.0467 total_loss_randImg  7709.893150806427 total_correct:  87615 total_loss 25.7102\n",
            "epoch: 4 mnist_correct: 99.9850 mnistt_loss  3.078210401255319 total_correct_randImg:  46.0967 total_loss_randImg  7707.625150680542 total_correct:  87649 total_loss 25.7023\n",
            "epoch: 5 mnist_correct: 99.9783 mnistt_loss  3.5733740038569977 total_correct_randImg:  46.2800 total_loss_randImg  7701.052733898163 total_correct:  87755 total_loss 25.6821\n",
            "epoch: 6 mnist_correct: 99.9700 mnistt_loss  3.3423717675492526 total_correct_randImg:  46.3383 total_loss_randImg  7698.745315551758 total_correct:  87785 total_loss 25.6736\n",
            "epoch: 7 mnist_correct: 99.9750 mnistt_loss  3.75369785870771 total_correct_randImg:  46.3617 total_loss_randImg  7698.373903274536 total_correct:  87802 total_loss 25.6738\n",
            "epoch: 8 mnist_correct: 99.9800 mnistt_loss  3.5588569011769096 total_correct_randImg:  46.5133 total_loss_randImg  7694.235515594482 total_correct:  87896 total_loss 25.6593\n",
            "epoch: 9 mnist_correct: 99.9800 mnistt_loss  3.1030116586806002 total_correct_randImg:  46.5750 total_loss_randImg  7689.6752235889435 total_correct:  87933 total_loss 25.6426\n",
            "epoch: 10 mnist_correct: 99.9883 mnistt_loss  2.4347078816649628 total_correct_randImg:  46.6683 total_loss_randImg  7685.883836507797 total_correct:  87994 total_loss 25.6277\n",
            "epoch: 11 mnist_correct: 99.9750 mnistt_loss  3.3889620514537455 total_correct_randImg:  46.7483 total_loss_randImg  7684.532711982727 total_correct:  88034 total_loss 25.6264\n",
            "epoch: 12 mnist_correct: 99.9917 mnistt_loss  2.3307172359584456 total_correct_randImg:  46.8600 total_loss_randImg  7680.138862133026 total_correct:  88111 total_loss 25.6082\n",
            "epoch: 13 mnist_correct: 99.9817 mnistt_loss  3.9890064341845743 total_correct_randImg:  46.7900 total_loss_randImg  7682.998911857605 total_correct:  88063 total_loss 25.6233\n",
            "epoch: 14 mnist_correct: 99.9717 mnistt_loss  3.08530890697466 total_correct_randImg:  46.9950 total_loss_randImg  7675.963770151138 total_correct:  88180 total_loss 25.5968\n",
            "epoch: 15 mnist_correct: 99.9733 mnistt_loss  2.8652590954213224 total_correct_randImg:  46.8783 total_loss_randImg  7678.875654459 total_correct:  88111 total_loss 25.6058\n",
            "epoch: 16 mnist_correct: 99.9750 mnistt_loss  2.903640526142226 total_correct_randImg:  46.9767 total_loss_randImg  7676.3770887851715 total_correct:  88171 total_loss 25.5976\n",
            "epoch: 17 mnist_correct: 99.9733 mnistt_loss  3.7825243691195283 total_correct_randImg:  47.1550 total_loss_randImg  7669.458670377731 total_correct:  88277 total_loss 25.5775\n",
            "epoch: 18 mnist_correct: 99.9750 mnistt_loss  2.947378509031225 total_correct_randImg:  47.1217 total_loss_randImg  7670.729900121689 total_correct:  88258 total_loss 25.5789\n",
            "epoch: 19 mnist_correct: 99.9750 mnistt_loss  3.1282521937611136 total_correct_randImg:  47.0950 total_loss_randImg  7672.41800403595 total_correct:  88242 total_loss 25.5852\n",
            "epoch: 20 mnist_correct: 99.9800 mnistt_loss  3.216121015079864 total_correct_randImg:  47.1333 total_loss_randImg  7670.014669895172 total_correct:  88268 total_loss 25.5774\n",
            "epoch: 21 mnist_correct: 99.9800 mnistt_loss  2.423224908940867 total_correct_randImg:  47.2233 total_loss_randImg  7667.428880214691 total_correct:  88322 total_loss 25.5662\n",
            "epoch: 22 mnist_correct: 99.9833 mnistt_loss  2.183198438259417 total_correct_randImg:  47.2067 total_loss_randImg  7667.198142051697 total_correct:  88314 total_loss 25.5646\n",
            "epoch: 23 mnist_correct: 99.9783 mnistt_loss  2.4539500340165716 total_correct_randImg:  47.2700 total_loss_randImg  7665.606997489929 total_correct:  88349 total_loss 25.5602\n",
            "epoch: 24 mnist_correct: 99.9700 mnistt_loss  3.532283129764295 total_correct_randImg:  47.2667 total_loss_randImg  7666.512572050095 total_correct:  88342 total_loss 25.5668\n",
            "epoch: 25 mnist_correct: 99.9867 mnistt_loss  2.3301969045568285 total_correct_randImg:  47.2983 total_loss_randImg  7664.385856866837 total_correct:  88371 total_loss 25.5557\n",
            "epoch: 26 mnist_correct: 99.9750 mnistt_loss  3.2638366931847145 total_correct_randImg:  47.2867 total_loss_randImg  7665.926628351212 total_correct:  88357 total_loss 25.5640\n",
            "epoch: 27 mnist_correct: 99.9683 mnistt_loss  3.0601979996175714 total_correct_randImg:  47.2833 total_loss_randImg  7664.943877696991 total_correct:  88351 total_loss 25.5600\n",
            "epoch: 28 mnist_correct: 99.9617 mnistt_loss  4.622879146750648 total_correct_randImg:  47.2133 total_loss_randImg  7666.458406925201 total_correct:  88305 total_loss 25.5703\n",
            "epoch: 29 mnist_correct: 99.9650 mnistt_loss  4.052513884326451 total_correct_randImg:  47.4033 total_loss_randImg  7661.269741535187 total_correct:  88421 total_loss 25.5511\n",
            "epoch: 30 mnist_correct: 99.9783 mnistt_loss  3.1213203220322647 total_correct_randImg:  47.2717 total_loss_randImg  7664.884571313858 total_correct:  88350 total_loss 25.5600\n",
            "epoch: 31 mnist_correct: 99.9833 mnistt_loss  2.459827247913827 total_correct_randImg:  47.3217 total_loss_randImg  7663.3467926979065 total_correct:  88383 total_loss 25.5527\n",
            "epoch: 32 mnist_correct: 99.9733 mnistt_loss  2.6563756211267524 total_correct_randImg:  47.1750 total_loss_randImg  7668.326148986816 total_correct:  88289 total_loss 25.5699\n",
            "epoch: 33 mnist_correct: 99.9650 mnistt_loss  4.222309341567023 total_correct_randImg:  47.2300 total_loss_randImg  7667.14955997467 total_correct:  88317 total_loss 25.5712\n",
            "epoch: 34 mnist_correct: 99.9767 mnistt_loss  3.1030719806320057 total_correct_randImg:  47.3267 total_loss_randImg  7663.333035230637 total_correct:  88382 total_loss 25.5548\n",
            "epoch: 35 mnist_correct: 99.9817 mnistt_loss  2.218620354983994 total_correct_randImg:  47.4050 total_loss_randImg  7660.382900476456 total_correct:  88432 total_loss 25.5420\n",
            "epoch: 36 mnist_correct: 99.9567 mnistt_loss  6.220615535464267 total_correct_randImg:  47.2783 total_loss_randImg  7664.765759944916 total_correct:  88341 total_loss 25.5700\n",
            "epoch: 37 mnist_correct: 99.9700 mnistt_loss  3.7597155039710968 total_correct_randImg:  47.3000 total_loss_randImg  7664.907426118851 total_correct:  88362 total_loss 25.5622\n",
            "epoch: 38 mnist_correct: 99.9800 mnistt_loss  3.3194640628843963 total_correct_randImg:  47.2417 total_loss_randImg  7665.722718000412 total_correct:  88333 total_loss 25.5635\n",
            "epoch: 39 mnist_correct: 99.9667 mnistt_loss  4.027347536587693 total_correct_randImg:  47.2000 total_loss_randImg  7666.770989656448 total_correct:  88300 total_loss 25.5693\n"
          ]
        }
      ]
    },
    {
      "cell_type": "code",
      "source": [],
      "metadata": {
        "id": "V7NCwtbi0NAS"
      },
      "execution_count": null,
      "outputs": []
    }
  ]
}